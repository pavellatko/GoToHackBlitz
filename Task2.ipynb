{
 "cells": [
  {
   "cell_type": "code",
   "execution_count": 209,
   "metadata": {
    "collapsed": true
   },
   "outputs": [],
   "source": [
    "from collections import defaultdict\n",
    "import pandas as pd\n",
    "\n",
    "events = pd.read_csv('data/events.csv')\n",
    "structure = pd.read_csv('data/structure.csv')"
   ]
  },
  {
   "cell_type": "code",
   "execution_count": 210,
   "metadata": {
    "collapsed": false
   },
   "outputs": [
    {
     "name": "stderr",
     "output_type": "stream",
     "text": [
      "/home/pavel/anaconda2/lib/python2.7/site-packages/ipykernel/__main__.py:1: FutureWarning: sort(columns=....) is deprecated, use sort_values(by=.....)\n",
      "  if __name__ == '__main__':\n"
     ]
    }
   ],
   "source": [
    "structure = structure.sort(['module_position', 'lesson_position', 'step_position'])\n",
    "new_step_id = {}\n",
    "old_step_id = {}\n",
    "ind = 1\n",
    "for x, row in structure.iterrows():\n",
    "    cur_id = row['step_id']\n",
    "    new_step_id[cur_id] = ind\n",
    "    old_step_id[ind] = cur_id\n",
    "    ind += 1\n",
    "\n",
    "structure['step_id'] = structure['step_id'].apply(lambda x: new_step_id[x])\n",
    "    \n",
    "events['step_id'] = events['step_id'].apply(lambda x: new_step_id[x])\n",
    "     \n"
   ]
  },
  {
   "cell_type": "code",
   "execution_count": 211,
   "metadata": {
    "collapsed": true
   },
   "outputs": [],
   "source": [
    "data = pd.merge(events, structure, on='step_id')"
   ]
  },
  {
   "cell_type": "code",
   "execution_count": 212,
   "metadata": {
    "collapsed": false
   },
   "outputs": [
    {
     "name": "stderr",
     "output_type": "stream",
     "text": [
      "/home/pavel/anaconda2/lib/python2.7/site-packages/ipykernel/__main__.py:1: FutureWarning: sort(columns=....) is deprecated, use sort_values(by=.....)\n",
      "  if __name__ == '__main__':\n"
     ]
    }
   ],
   "source": [
    "data = data.sort(['step_id'])"
   ]
  },
  {
   "cell_type": "code",
   "execution_count": 213,
   "metadata": {
    "collapsed": false
   },
   "outputs": [],
   "source": [
    "step_groupby = data.groupby('step_id')"
   ]
  },
  {
   "cell_type": "code",
   "execution_count": 214,
   "metadata": {
    "collapsed": false
   },
   "outputs": [],
   "source": [
    "user_groupby = data.groupby('user_id')"
   ]
  },
  {
   "cell_type": "code",
   "execution_count": 215,
   "metadata": {
    "collapsed": true
   },
   "outputs": [],
   "source": [
    "users_cnt = {}\n",
    "for step_id, df in step_groupby:\n",
    "    users_cnt[step_id] = len(df['user_id'].unique())"
   ]
  },
  {
   "cell_type": "code",
   "execution_count": 216,
   "metadata": {
    "collapsed": false
   },
   "outputs": [],
   "source": [
    "returned_cnt = defaultdict(int)\n",
    "for user_id, df in user_groupby:\n",
    "    cur_step_id_groupby = df.groupby('step_id')\n",
    "    watch_time = {}\n",
    "    for step_id, cdf in cur_step_id_groupby:\n",
    "        watch_time[step_id] = sorted(list(cdf['time']))\n",
    "    for step_id, times in watch_time.iteritems():\n",
    "        first = times[0]\n",
    "        last = times[-1]\n",
    "        next_step = step_id + 1\n",
    "        if next_step in watch_time:\n",
    "            returned = False\n",
    "            for time in watch_time[next_step]:\n",
    "                if time > first and time < last:\n",
    "                    returned = True\n",
    "            if returned:\n",
    "                returned_cnt[step_id] += 1\n",
    "    "
   ]
  },
  {
   "cell_type": "code",
   "execution_count": 217,
   "metadata": {
    "collapsed": false
   },
   "outputs": [],
   "source": [
    "return_score = []\n",
    "for step_id, cnt in returned_cnt.iteritems():\n",
    "    score = float(cnt) / users_cnt[step_id]\n",
    "    return_score.append((score, old_step_id[step_id]))"
   ]
  },
  {
   "cell_type": "code",
   "execution_count": 218,
   "metadata": {
    "collapsed": false
   },
   "outputs": [],
   "source": [
    "return_score = sorted(return_score, reverse=True)"
   ]
  },
  {
   "cell_type": "code",
   "execution_count": 219,
   "metadata": {
    "collapsed": false
   },
   "outputs": [
    {
     "data": {
      "text/plain": [
       "'41684,41604,41097,41481,42593,38872,41686,39735,39740,39717'"
      ]
     },
     "execution_count": 219,
     "metadata": {},
     "output_type": "execute_result"
    }
   ],
   "source": [
    "','.join(map(lambda x: str(x[1]), return_score[:10]))"
   ]
  }
 ],
 "metadata": {
  "kernelspec": {
   "display_name": "Python [Root]",
   "language": "python",
   "name": "Python [Root]"
  },
  "language_info": {
   "codemirror_mode": {
    "name": "ipython",
    "version": 2
   },
   "file_extension": ".py",
   "mimetype": "text/x-python",
   "name": "python",
   "nbconvert_exporter": "python",
   "pygments_lexer": "ipython2",
   "version": "2.7.12"
  }
 },
 "nbformat": 4,
 "nbformat_minor": 0
}
