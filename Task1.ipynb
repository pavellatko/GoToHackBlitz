{
 "cells": [
  {
   "cell_type": "code",
   "execution_count": 95,
   "metadata": {
    "collapsed": false
   },
   "outputs": [],
   "source": [
    "from collections import defaultdict\n",
    "import pandas as pd\n",
    "\n",
    "events = pd.read_csv('data/events.csv')\n",
    "structure = pd.read_csv('data/structure.csv')\n",
    "\n",
    "data = pd.merge(events, structure, on='step_id')"
   ]
  },
  {
   "cell_type": "code",
   "execution_count": 96,
   "metadata": {
    "collapsed": false
   },
   "outputs": [
    {
     "data": {
      "text/html": [
       "<div>\n",
       "<table border=\"1\" class=\"dataframe\">\n",
       "  <thead>\n",
       "    <tr style=\"text-align: right;\">\n",
       "      <th></th>\n",
       "      <th>user_id</th>\n",
       "      <th>action</th>\n",
       "      <th>step_id</th>\n",
       "      <th>time</th>\n",
       "      <th>course_id</th>\n",
       "      <th>module_id</th>\n",
       "      <th>module_position</th>\n",
       "      <th>lesson_id</th>\n",
       "      <th>lesson_position</th>\n",
       "      <th>step_position</th>\n",
       "      <th>step_type</th>\n",
       "      <th>step_cost</th>\n",
       "    </tr>\n",
       "  </thead>\n",
       "  <tbody>\n",
       "    <tr>\n",
       "      <th>0</th>\n",
       "      <td>1</td>\n",
       "      <td>viewed</td>\n",
       "      <td>47435</td>\n",
       "      <td>1465181036</td>\n",
       "      <td>217</td>\n",
       "      <td>623</td>\n",
       "      <td>8</td>\n",
       "      <td>13258</td>\n",
       "      <td>3</td>\n",
       "      <td>5</td>\n",
       "      <td>video</td>\n",
       "      <td>0</td>\n",
       "    </tr>\n",
       "    <tr>\n",
       "      <th>1</th>\n",
       "      <td>1</td>\n",
       "      <td>viewed</td>\n",
       "      <td>47435</td>\n",
       "      <td>1465181021</td>\n",
       "      <td>217</td>\n",
       "      <td>623</td>\n",
       "      <td>8</td>\n",
       "      <td>13258</td>\n",
       "      <td>3</td>\n",
       "      <td>5</td>\n",
       "      <td>video</td>\n",
       "      <td>0</td>\n",
       "    </tr>\n",
       "    <tr>\n",
       "      <th>2</th>\n",
       "      <td>81</td>\n",
       "      <td>viewed</td>\n",
       "      <td>47435</td>\n",
       "      <td>1465073711</td>\n",
       "      <td>217</td>\n",
       "      <td>623</td>\n",
       "      <td>8</td>\n",
       "      <td>13258</td>\n",
       "      <td>3</td>\n",
       "      <td>5</td>\n",
       "      <td>video</td>\n",
       "      <td>0</td>\n",
       "    </tr>\n",
       "    <tr>\n",
       "      <th>3</th>\n",
       "      <td>81</td>\n",
       "      <td>viewed</td>\n",
       "      <td>47435</td>\n",
       "      <td>1465073705</td>\n",
       "      <td>217</td>\n",
       "      <td>623</td>\n",
       "      <td>8</td>\n",
       "      <td>13258</td>\n",
       "      <td>3</td>\n",
       "      <td>5</td>\n",
       "      <td>video</td>\n",
       "      <td>0</td>\n",
       "    </tr>\n",
       "    <tr>\n",
       "      <th>4</th>\n",
       "      <td>81</td>\n",
       "      <td>viewed</td>\n",
       "      <td>47435</td>\n",
       "      <td>1465073567</td>\n",
       "      <td>217</td>\n",
       "      <td>623</td>\n",
       "      <td>8</td>\n",
       "      <td>13258</td>\n",
       "      <td>3</td>\n",
       "      <td>5</td>\n",
       "      <td>video</td>\n",
       "      <td>0</td>\n",
       "    </tr>\n",
       "  </tbody>\n",
       "</table>\n",
       "</div>"
      ],
      "text/plain": [
       "   user_id  action  step_id        time  course_id  module_id  \\\n",
       "0        1  viewed    47435  1465181036        217        623   \n",
       "1        1  viewed    47435  1465181021        217        623   \n",
       "2       81  viewed    47435  1465073711        217        623   \n",
       "3       81  viewed    47435  1465073705        217        623   \n",
       "4       81  viewed    47435  1465073567        217        623   \n",
       "\n",
       "   module_position  lesson_id  lesson_position  step_position step_type  \\\n",
       "0                8      13258                3              5     video   \n",
       "1                8      13258                3              5     video   \n",
       "2                8      13258                3              5     video   \n",
       "3                8      13258                3              5     video   \n",
       "4                8      13258                3              5     video   \n",
       "\n",
       "   step_cost  \n",
       "0          0  \n",
       "1          0  \n",
       "2          0  \n",
       "3          0  \n",
       "4          0  "
      ]
     },
     "execution_count": 96,
     "metadata": {},
     "output_type": "execute_result"
    }
   ],
   "source": [
    "data.head()"
   ]
  },
  {
   "cell_type": "code",
   "execution_count": 98,
   "metadata": {
    "collapsed": false
   },
   "outputs": [],
   "source": [
    "data = data.sort_values('time')"
   ]
  },
  {
   "cell_type": "code",
   "execution_count": 101,
   "metadata": {
    "collapsed": false
   },
   "outputs": [],
   "source": [
    "start_time = {}\n",
    "for x, row in data.iterrows():\n",
    "    user_id = row['user_id']\n",
    "    if user_id not in start_time:\n",
    "        start_time[user_id] = row['time']"
   ]
  },
  {
   "cell_type": "code",
   "execution_count": 105,
   "metadata": {
    "collapsed": false
   },
   "outputs": [],
   "source": [
    "cur_score = defaultdict(int)\n",
    "end_time = {}\n",
    "for x, row in data[data['action'] == 'passed'].iterrows():\n",
    "    user_id = row['user_id']\n",
    "    time = row['time']\n",
    "    score = row['step_cost']\n",
    "    if cur_score[user_id] < 24:\n",
    "        cur_score[user_id] += score\n",
    "        if cur_score[user_id] >= 24:\n",
    "            end_time[user_id] = time"
   ]
  },
  {
   "cell_type": "code",
   "execution_count": 108,
   "metadata": {
    "collapsed": false
   },
   "outputs": [],
   "source": [
    "ans = []\n",
    "for user_id, time in end_time.items():\n",
    "    ans.append([time - start_time[user_id], user_id])"
   ]
  },
  {
   "cell_type": "code",
   "execution_count": 110,
   "metadata": {
    "collapsed": false
   },
   "outputs": [],
   "source": [
    "ans.sort()"
   ]
  },
  {
   "cell_type": "code",
   "execution_count": 113,
   "metadata": {
    "collapsed": false
   },
   "outputs": [
    {
     "name": "stdout",
     "output_type": "stream",
     "text": [
      "4313,1264,821,1146,1124,2622,713,972,4280,1291\n"
     ]
    }
   ],
   "source": [
    "print ','.join(map(lambda x: str(x[1]), ans[:10]))"
   ]
  },
  {
   "cell_type": "code",
   "execution_count": null,
   "metadata": {
    "collapsed": true
   },
   "outputs": [],
   "source": []
  }
 ],
 "metadata": {
  "kernelspec": {
   "display_name": "Python [Root]",
   "language": "python",
   "name": "Python [Root]"
  },
  "language_info": {
   "codemirror_mode": {
    "name": "ipython",
    "version": 2
   },
   "file_extension": ".py",
   "mimetype": "text/x-python",
   "name": "python",
   "nbconvert_exporter": "python",
   "pygments_lexer": "ipython2",
   "version": "2.7.12"
  }
 },
 "nbformat": 4,
 "nbformat_minor": 0
}
